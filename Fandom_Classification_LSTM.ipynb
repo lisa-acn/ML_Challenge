{
  "nbformat": 4,
  "nbformat_minor": 0,
  "metadata": {
    "colab": {
      "provenance": [],
      "collapsed_sections": [],
      "authorship_tag": "ABX9TyPxgrUxEmN9t13KQAbqbzep",
      "include_colab_link": true
    },
    "kernelspec": {
      "name": "python3",
      "display_name": "Python 3"
    },
    "language_info": {
      "name": "python"
    }
  },
  "cells": [
    {
      "cell_type": "markdown",
      "metadata": {
        "id": "view-in-github",
        "colab_type": "text"
      },
      "source": [
        "<a href=\"https://colab.research.google.com/github/lisa-acn/ML_Challenge/blob/main/Fandom_Classification_LSTM.ipynb\" target=\"_parent\"><img src=\"https://colab.research.google.com/assets/colab-badge.svg\" alt=\"Open In Colab\"/></a>"
      ]
    },
    {
      "cell_type": "code",
      "execution_count": 1,
      "metadata": {
        "id": "ZwDgME57L8qi"
      },
      "outputs": [],
      "source": [
        "import requests\n",
        "import numpy as np\n",
        "import tqdm\n",
        "import urllib.request\n",
        "\n",
        "datasetfile = urllib.request.urlretrieve(\"https://acn-public-files.s3.amazonaws.com/mltest/dataset_lstm.npy\", 'dataset_lstm.npz')\n",
        "npzfile = np.load('dataset_lstm.npz')\n",
        "X_train = npzfile['X_train']\n",
        "X_test = npzfile['X_test']\n",
        "y_train = npzfile['y_train']\n",
        "y_test = npzfile['y_test']\n",
        "\n",
        "max_number_of_words=50000"
      ]
    },
    {
      "cell_type": "code",
      "source": [
        "X_train[0].shape"
      ],
      "metadata": {
        "colab": {
          "base_uri": "https://localhost:8080/"
        },
        "id": "hV1ollzzYvQH",
        "outputId": "61690115-42a6-4907-9bc6-81aa24533c05"
      },
      "execution_count": null,
      "outputs": [
        {
          "output_type": "execute_result",
          "data": {
            "text/plain": [
              "(500,)"
            ]
          },
          "metadata": {},
          "execution_count": 22
        }
      ]
    },
    {
      "cell_type": "code",
      "source": [
        "from keras.models import Sequential\n",
        "from keras.layers import Embedding, LSTM, Dense\n",
        "\n",
        "model = Sequential()\n",
        "model.add(Embedding(max_number_of_words, 32, input_length=X.shape[1]))\n",
        "model.add(LSTM(32, return_sequences=True)) \n",
        "model.add(LSTM(32))\n",
        "model.add(Dense(32,activation='relu'))\n",
        "model.add(Dense(1,activation='sigmoid'))\n",
        "model.compile(loss=['binary_crossentropy'] , optimizer='adam', metrics=['accuracy'])\n",
        "model.summary()\n",
        "model.fit(X_train, y_train, epochs=5, batch_size=50, validation_split=0.2 )"
      ],
      "metadata": {
        "id": "vpwTwuz1U2iK"
      },
      "execution_count": null,
      "outputs": []
    },
    {
      "cell_type": "code",
      "source": [],
      "metadata": {
        "id": "ec3n7vEEY-3g"
      },
      "execution_count": null,
      "outputs": []
    }
  ]
}